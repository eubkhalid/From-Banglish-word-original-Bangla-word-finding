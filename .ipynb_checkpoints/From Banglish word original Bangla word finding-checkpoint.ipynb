{
 "cells": [
  {
   "cell_type": "markdown",
   "id": "7f3b427c",
   "metadata": {},
   "source": [
    "# From Banglish word original Bangla word finding\n",
    "### This is a project for our course: \"Project Management\".\n",
    "\n",
    "\n",
    "#### Group Members:\n",
    "\n",
    "- Khalid Mahmud\n",
    "- Antora Ghosh"
   ]
  },
  {
   "cell_type": "code",
   "execution_count": 1,
   "id": "adcde96c",
   "metadata": {},
   "outputs": [],
   "source": [
    "import pandas as pd\n",
    "import numpy as np\n",
    "#import matplotlib.pyplot as plt\n",
    "#import seaborn as sns\n",
    "\n",
    "import warnings\n",
    "warnings.filterwarnings('always')\n",
    "warnings.filterwarnings('ignore')"
   ]
  },
  {
   "cell_type": "markdown",
   "id": "4c649927",
   "metadata": {},
   "source": [
    "##Load the Data file."
   ]
  },
  {
   "cell_type": "code",
   "execution_count": 2,
   "id": "602f16a8",
   "metadata": {},
   "outputs": [],
   "source": [
    "df = pd.read_csv(\"./data/ben2bn.csv\")"
   ]
  },
  {
   "cell_type": "markdown",
   "id": "ec9417d3",
   "metadata": {},
   "source": [
    "##Viewing the first 10 row of csv file"
   ]
  },
  {
   "cell_type": "code",
   "execution_count": 3,
   "id": "11bc8ee3",
   "metadata": {},
   "outputs": [
    {
     "data": {
      "text/html": [
       "<div>\n",
       "<style scoped>\n",
       "    .dataframe tbody tr th:only-of-type {\n",
       "        vertical-align: middle;\n",
       "    }\n",
       "\n",
       "    .dataframe tbody tr th {\n",
       "        vertical-align: top;\n",
       "    }\n",
       "\n",
       "    .dataframe thead th {\n",
       "        text-align: right;\n",
       "    }\n",
       "</style>\n",
       "<table border=\"1\" class=\"dataframe\">\n",
       "  <thead>\n",
       "    <tr style=\"text-align: right;\">\n",
       "      <th></th>\n",
       "      <th>Banglish</th>\n",
       "      <th>Bangla</th>\n",
       "    </tr>\n",
       "  </thead>\n",
       "  <tbody>\n",
       "    <tr>\n",
       "      <th>0</th>\n",
       "      <td>amar</td>\n",
       "      <td>আমার</td>\n",
       "    </tr>\n",
       "    <tr>\n",
       "      <th>1</th>\n",
       "      <td>name</td>\n",
       "      <td>নাম</td>\n",
       "    </tr>\n",
       "    <tr>\n",
       "      <th>2</th>\n",
       "      <td>khalid</td>\n",
       "      <td>খালিদ</td>\n",
       "    </tr>\n",
       "    <tr>\n",
       "      <th>3</th>\n",
       "      <td>ami</td>\n",
       "      <td>আমি</td>\n",
       "    </tr>\n",
       "    <tr>\n",
       "      <th>4</th>\n",
       "      <td>valo</td>\n",
       "      <td>ভালো</td>\n",
       "    </tr>\n",
       "    <tr>\n",
       "      <th>5</th>\n",
       "      <td>achi</td>\n",
       "      <td>আছি</td>\n",
       "    </tr>\n",
       "    <tr>\n",
       "      <th>6</th>\n",
       "      <td>antora</td>\n",
       "      <td>অন্তরা</td>\n",
       "    </tr>\n",
       "    <tr>\n",
       "      <th>7</th>\n",
       "      <td>nei</td>\n",
       "      <td>নেই</td>\n",
       "    </tr>\n",
       "  </tbody>\n",
       "</table>\n",
       "</div>"
      ],
      "text/plain": [
       "  Banglish  Bangla\n",
       "0     amar    আমার\n",
       "1     name     নাম\n",
       "2   khalid   খালিদ\n",
       "3      ami     আমি\n",
       "4     valo    ভালো\n",
       "5     achi     আছি\n",
       "6   antora  অন্তরা\n",
       "7      nei     নেই"
      ]
     },
     "execution_count": 3,
     "metadata": {},
     "output_type": "execute_result"
    }
   ],
   "source": [
    "df.head(10)"
   ]
  },
  {
   "cell_type": "markdown",
   "id": "647841fc",
   "metadata": {},
   "source": [
    "## Get input from user:"
   ]
  },
  {
   "cell_type": "code",
   "execution_count": 1,
   "id": "26e06802",
   "metadata": {},
   "outputs": [
    {
     "name": "stdout",
     "output_type": "stream",
     "text": [
      "Please enter a string:\n",
      "amar\n"
     ]
    }
   ],
   "source": [
    "getTestInBanglish = input(\"Please enter a string:\\n\")"
   ]
  },
  {
   "cell_type": "code",
   "execution_count": 3,
   "id": "e4fea6b5",
   "metadata": {},
   "outputs": [
    {
     "name": "stdout",
     "output_type": "stream",
     "text": [
      "You entered: amar\n"
     ]
    }
   ],
   "source": [
    "print(f'You entered: {getTestInBanglish}')"
   ]
  },
  {
   "cell_type": "markdown",
   "id": "bb4c66eb",
   "metadata": {},
   "source": [
    "### Check and matching input text with database data."
   ]
  },
  {
   "cell_type": "code",
   "execution_count": 4,
   "id": "cd47f79c",
   "metadata": {},
   "outputs": [
    {
     "ename": "SyntaxError",
     "evalue": "invalid syntax (Temp/ipykernel_13896/1360061421.py, line 1)",
     "output_type": "error",
     "traceback": [
      "\u001b[1;36m  File \u001b[1;32m\"C:\\Users\\skhal\\AppData\\Local\\Temp/ipykernel_13896/1360061421.py\"\u001b[1;36m, line \u001b[1;32m1\u001b[0m\n\u001b[1;33m    if(getTestInBanglish==)\u001b[0m\n\u001b[1;37m                          ^\u001b[0m\n\u001b[1;31mSyntaxError\u001b[0m\u001b[1;31m:\u001b[0m invalid syntax\n"
     ]
    }
   ],
   "source": [
    "if(getTestInBanglish=='amar'):\n",
    "    print(getTestInBanglish)"
   ]
  },
  {
   "cell_type": "code",
   "execution_count": null,
   "id": "19e4e9a6",
   "metadata": {},
   "outputs": [],
   "source": []
  }
 ],
 "metadata": {
  "kernelspec": {
   "display_name": "Python 3 (ipykernel)",
   "language": "python",
   "name": "python3"
  },
  "language_info": {
   "codemirror_mode": {
    "name": "ipython",
    "version": 3
   },
   "file_extension": ".py",
   "mimetype": "text/x-python",
   "name": "python",
   "nbconvert_exporter": "python",
   "pygments_lexer": "ipython3",
   "version": "3.9.7"
  }
 },
 "nbformat": 4,
 "nbformat_minor": 5
}
