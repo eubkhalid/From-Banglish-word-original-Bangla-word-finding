{
 "cells": [
  {
   "cell_type": "markdown",
   "id": "7f3b427c",
   "metadata": {},
   "source": [
    "# From Banglish word original Bangla word finding\n",
    "### This is a project for our course: \"Project Management\".\n",
    "\n",
    "\n",
    "#### Group Members:\n",
    "\n",
    "- Khalid Mahmud\n",
    "- Antora Ghosh"
   ]
  },
  {
   "cell_type": "code",
   "execution_count": 1,
   "id": "adcde96c",
   "metadata": {},
   "outputs": [],
   "source": [
    "#import pandas as pd\n",
    "#import numpy as np\n",
    "import csv\n",
    "#import matplotlib.pyplot as plt\n",
    "#import seaborn as sns\n",
    "\n",
    "import warnings\n",
    "warnings.filterwarnings('always')\n",
    "warnings.filterwarnings('ignore')"
   ]
  },
  {
   "cell_type": "markdown",
   "id": "4c649927",
   "metadata": {},
   "source": [
    "## Load the Data file."
   ]
  },
  {
   "cell_type": "code",
   "execution_count": 2,
   "id": "602f16a8",
   "metadata": {},
   "outputs": [],
   "source": [
    "#b2b = pd.read_csv(\"./data/ben2bn.csv\")\n",
    "#bG = pd.read_csv(\"./data/banGenerator.csv\")"
   ]
  },
  {
   "cell_type": "markdown",
   "id": "a7117c92",
   "metadata": {},
   "source": [
    "## Test case:"
   ]
  },
  {
   "cell_type": "code",
   "execution_count": 3,
   "id": "cd05ecf7",
   "metadata": {},
   "outputs": [],
   "source": [
    "data=[]\n",
    "f = r'./data/banGenerator.csv'\n",
    "\n",
    "with open(f,encoding='utf-8-sig') as csvfile:\n",
    "    reader = csv.reader(csvfile)\n",
    "    for row in reader:\n",
    "        data.append(row)\n",
    "col = [x[0] for x in data]"
   ]
  },
  {
   "cell_type": "markdown",
   "id": "56c63c8b",
   "metadata": {},
   "source": [
    "## Get input from user:"
   ]
  },
  {
   "cell_type": "code",
   "execution_count": 4,
   "id": "f90337e5",
   "metadata": {},
   "outputs": [
    {
     "name": "stdout",
     "output_type": "stream",
     "text": [
      "Enter a Banglish word: moumita\n"
     ]
    }
   ],
   "source": [
    "banglish = input(\"Enter a Banglish word: \")"
   ]
  },
  {
   "cell_type": "markdown",
   "id": "7f6b028e",
   "metadata": {},
   "source": [
    "## Split data"
   ]
  },
  {
   "cell_type": "code",
   "execution_count": 5,
   "id": "c00cbacb",
   "metadata": {},
   "outputs": [
    {
     "name": "stdout",
     "output_type": "stream",
     "text": [
      "m\n",
      "ou\n",
      "m\n",
      "i\n",
      "t\n",
      "a\n"
     ]
    }
   ],
   "source": [
    "Banglish = list(banglish)\n",
    "count = 0\n",
    "cunt = 0\n",
    "draftBan = ['','','','','','','','','','','','','','','','','','','','','','']\n",
    "con = \"bcdfghjklmnpqrstvwxyz\"\n",
    "vow = \"aeiou\"\n",
    "for x in Banglish:\n",
    "    if(cunt == 0):\n",
    "        draftBan[count] = draftBan[count] + x\n",
    "    elif(cunt == 1):\n",
    "        if(((x in vow) and (Banglish[0] in vow)) or ((x in con) and (Banglish[0] in con))):\n",
    "            draftBan[count] = draftBan[count] + x\n",
    "        else:\n",
    "            count = count + 1\n",
    "            draftBan[count] = draftBan[count] + x\n",
    "    else:\n",
    "        if((Banglish[cunt] in vow) and (Banglish[cunt-1] in vow)):\n",
    "            draftBan[count] = draftBan[count] + x\n",
    "        elif((Banglish[cunt] in con) and (Banglish[cunt-1] in vow)):\n",
    "            count = count + 1\n",
    "            draftBan[count] = draftBan[count] + x\n",
    "        elif((Banglish[cunt] in vow) and (Banglish[cunt-1] in con)):\n",
    "            count = count + 1\n",
    "            draftBan[count] = draftBan[count] + x\n",
    "        elif((Banglish[cunt-1] == 'g') and (Banglish[cunt-2] == 'n')):\n",
    "            count = count + 1\n",
    "            draftBan[count] = draftBan[count] + x\n",
    "        else:\n",
    "            draftBan[count] = draftBan[count] + x\n",
    "    cunt = cunt + 1\n",
    "for x in draftBan:\n",
    "    if(x != \"\"):\n",
    "        print(x)"
   ]
  },
  {
   "cell_type": "markdown",
   "id": "b037d95a",
   "metadata": {},
   "source": [
    "### Check and matching input text with database data."
   ]
  },
  {
   "cell_type": "code",
   "execution_count": 6,
   "id": "d7dfadbd",
   "metadata": {},
   "outputs": [
    {
     "data": {
      "text/plain": [
       "'মৌমিতা'"
      ]
     },
     "execution_count": 6,
     "metadata": {},
     "output_type": "execute_result"
    }
   ],
   "source": [
    "results = \"\"\n",
    "for y in draftBan:\n",
    "    if(y != \"\"):\n",
    "        if y in col:\n",
    "            for x in range(0,len(data)):\n",
    "                if y == data[x][0]:\n",
    "                    results = results + data[x][1]\n",
    "        else:\n",
    "            print(\"doesne't exist in database\")\n",
    "results"
   ]
  },
  {
   "cell_type": "code",
   "execution_count": null,
   "id": "61ebf622",
   "metadata": {},
   "outputs": [],
   "source": []
  }
 ],
 "metadata": {
  "kernelspec": {
   "display_name": "Python 3 (ipykernel)",
   "language": "python",
   "name": "python3"
  },
  "language_info": {
   "codemirror_mode": {
    "name": "ipython",
    "version": 3
   },
   "file_extension": ".py",
   "mimetype": "text/x-python",
   "name": "python",
   "nbconvert_exporter": "python",
   "pygments_lexer": "ipython3",
   "version": "3.9.7"
  }
 },
 "nbformat": 4,
 "nbformat_minor": 5
}
