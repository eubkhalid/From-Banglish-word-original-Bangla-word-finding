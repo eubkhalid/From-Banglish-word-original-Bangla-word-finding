{
 "cells": [
  {
   "cell_type": "markdown",
   "id": "7f3b427c",
   "metadata": {},
   "source": [
    "# From Banglish word original Bangla word finding\n",
    "### This is a project for our course: \"Project Management\".\n",
    "\n",
    "\n",
    "#### Group Members:\n",
    "\n",
    "- Khalid Mahmud\n",
    "- Antora Ghosh"
   ]
  },
  {
   "cell_type": "code",
   "execution_count": 1,
   "id": "adcde96c",
   "metadata": {},
   "outputs": [],
   "source": [
    "import pandas as pd\n",
    "import numpy as np\n",
    "#import matplotlib.pyplot as plt\n",
    "#import seaborn as sns\n",
    "\n",
    "import warnings\n",
    "warnings.filterwarnings('always')\n",
    "warnings.filterwarnings('ignore')"
   ]
  },
  {
   "cell_type": "markdown",
   "id": "4c649927",
   "metadata": {},
   "source": [
    "##Load the Data file."
   ]
  },
  {
   "cell_type": "code",
   "execution_count": 2,
   "id": "602f16a8",
   "metadata": {},
   "outputs": [],
   "source": [
    "b2b = pd.read_csv(\"./data/ben2bn.csv\")\n",
    "bG = pd.read_csv(\"./data/banGenerator.csv\")"
   ]
  },
  {
   "cell_type": "markdown",
   "id": "ec9417d3",
   "metadata": {},
   "source": [
    "##Viewing the first 10 row of csv file"
   ]
  },
  {
   "cell_type": "code",
   "execution_count": 4,
   "id": "11bc8ee3",
   "metadata": {},
   "outputs": [
    {
     "data": {
      "text/html": [
       "<div>\n",
       "<style scoped>\n",
       "    .dataframe tbody tr th:only-of-type {\n",
       "        vertical-align: middle;\n",
       "    }\n",
       "\n",
       "    .dataframe tbody tr th {\n",
       "        vertical-align: top;\n",
       "    }\n",
       "\n",
       "    .dataframe thead th {\n",
       "        text-align: right;\n",
       "    }\n",
       "</style>\n",
       "<table border=\"1\" class=\"dataframe\">\n",
       "  <thead>\n",
       "    <tr style=\"text-align: right;\">\n",
       "      <th></th>\n",
       "      <th>Banglish</th>\n",
       "      <th>Bangla</th>\n",
       "      <th>Second</th>\n",
       "    </tr>\n",
       "  </thead>\n",
       "  <tbody>\n",
       "    <tr>\n",
       "      <th>0</th>\n",
       "      <td>a</td>\n",
       "      <td>অ</td>\n",
       "      <td>NaN</td>\n",
       "    </tr>\n",
       "    <tr>\n",
       "      <th>1</th>\n",
       "      <td>aa</td>\n",
       "      <td>আ</td>\n",
       "      <td>NaN</td>\n",
       "    </tr>\n",
       "    <tr>\n",
       "      <th>2</th>\n",
       "      <td>i</td>\n",
       "      <td>ই</td>\n",
       "      <td>NaN</td>\n",
       "    </tr>\n",
       "    <tr>\n",
       "      <th>3</th>\n",
       "      <td>ii</td>\n",
       "      <td>ঈ</td>\n",
       "      <td>NaN</td>\n",
       "    </tr>\n",
       "    <tr>\n",
       "      <th>4</th>\n",
       "      <td>u</td>\n",
       "      <td>উ</td>\n",
       "      <td>NaN</td>\n",
       "    </tr>\n",
       "    <tr>\n",
       "      <th>5</th>\n",
       "      <td>oo</td>\n",
       "      <td>ঊ</td>\n",
       "      <td>NaN</td>\n",
       "    </tr>\n",
       "    <tr>\n",
       "      <th>6</th>\n",
       "      <td>ri</td>\n",
       "      <td>ঋ</td>\n",
       "      <td>NaN</td>\n",
       "    </tr>\n",
       "    <tr>\n",
       "      <th>7</th>\n",
       "      <td>e</td>\n",
       "      <td>এ</td>\n",
       "      <td>NaN</td>\n",
       "    </tr>\n",
       "    <tr>\n",
       "      <th>8</th>\n",
       "      <td>ei</td>\n",
       "      <td>ঐ</td>\n",
       "      <td>NaN</td>\n",
       "    </tr>\n",
       "    <tr>\n",
       "      <th>9</th>\n",
       "      <td>o</td>\n",
       "      <td>ও</td>\n",
       "      <td>NaN</td>\n",
       "    </tr>\n",
       "  </tbody>\n",
       "</table>\n",
       "</div>"
      ],
      "text/plain": [
       "  Banglish Bangla Second\n",
       "0        a      অ    NaN\n",
       "1       aa      আ    NaN\n",
       "2        i      ই    NaN\n",
       "3       ii      ঈ    NaN\n",
       "4        u      উ    NaN\n",
       "5       oo      ঊ    NaN\n",
       "6       ri      ঋ    NaN\n",
       "7        e      এ    NaN\n",
       "8       ei      ঐ    NaN\n",
       "9        o      ও    NaN"
      ]
     },
     "execution_count": 4,
     "metadata": {},
     "output_type": "execute_result"
    }
   ],
   "source": [
    "bG.head(10)"
   ]
  },
  {
   "cell_type": "markdown",
   "id": "56c63c8b",
   "metadata": {},
   "source": [
    "## Get input from user:"
   ]
  },
  {
   "cell_type": "code",
   "execution_count": 5,
   "id": "f90337e5",
   "metadata": {},
   "outputs": [
    {
     "name": "stdout",
     "output_type": "stream",
     "text": [
      "Please enter a string:\n",
      "ang\n"
     ]
    }
   ],
   "source": [
    "getTestInBanglish = input(\"Please enter a string:\\n\")"
   ]
  },
  {
   "cell_type": "code",
   "execution_count": 6,
   "id": "9e21942c",
   "metadata": {},
   "outputs": [
    {
     "name": "stdout",
     "output_type": "stream",
     "text": [
      "You entered: ang\n"
     ]
    }
   ],
   "source": [
    "print(f'You entered: {getTestInBanglish}')"
   ]
  },
  {
   "cell_type": "markdown",
   "id": "b037d95a",
   "metadata": {},
   "source": [
    "### Check and matching input text with database data."
   ]
  },
  {
   "cell_type": "code",
   "execution_count": 7,
   "id": "d7dfadbd",
   "metadata": {},
   "outputs": [],
   "source": [
    "if(getTestInBanglish=='amar'):\n",
    "    print(getTestInBanglish)"
   ]
  }
 ],
 "metadata": {
  "kernelspec": {
   "display_name": "Python 3 (ipykernel)",
   "language": "python",
   "name": "python3"
  },
  "language_info": {
   "codemirror_mode": {
    "name": "ipython",
    "version": 3
   },
   "file_extension": ".py",
   "mimetype": "text/x-python",
   "name": "python",
   "nbconvert_exporter": "python",
   "pygments_lexer": "ipython3",
   "version": "3.9.7"
  }
 },
 "nbformat": 4,
 "nbformat_minor": 5
}
