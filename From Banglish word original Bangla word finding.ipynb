{
 "cells": [
  {
   "cell_type": "markdown",
   "id": "7f3b427c",
   "metadata": {},
   "source": [
    "# From Banglish word original Bangla word finding\n",
    "### This is a project for our course: \"Project Management\"."
   ]
  },
  {
   "cell_type": "code",
   "execution_count": 1,
   "id": "adcde96c",
   "metadata": {},
   "outputs": [],
   "source": [
    "import numpy as np"
   ]
  },
  {
   "cell_type": "code",
   "execution_count": 2,
   "id": "602f16a8",
   "metadata": {},
   "outputs": [],
   "source": [
    "name = \"Khalid Mahmud\""
   ]
  },
  {
   "cell_type": "code",
   "execution_count": 3,
   "id": "11bc8ee3",
   "metadata": {},
   "outputs": [
    {
     "name": "stdout",
     "output_type": "stream",
     "text": [
      "Khalid Mahmud\n"
     ]
    }
   ],
   "source": [
    "print(name)"
   ]
  },
  {
   "cell_type": "code",
   "execution_count": null,
   "id": "cdcb2b11",
   "metadata": {},
   "outputs": [],
   "source": []
  }
 ],
 "metadata": {
  "kernelspec": {
   "display_name": "Python 3 (ipykernel)",
   "language": "python",
   "name": "python3"
  },
  "language_info": {
   "codemirror_mode": {
    "name": "ipython",
    "version": 3
   },
   "file_extension": ".py",
   "mimetype": "text/x-python",
   "name": "python",
   "nbconvert_exporter": "python",
   "pygments_lexer": "ipython3",
   "version": "3.9.7"
  }
 },
 "nbformat": 4,
 "nbformat_minor": 5
}
